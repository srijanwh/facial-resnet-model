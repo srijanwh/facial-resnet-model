import cv2
from google.colab.patches import cv2_imshow
import numpy as np
import time

def generate_dataset():
    face_classifier = cv2.CascadeClassifier(cv2.data.haarcascades + "haarcascade_frontalface_default.xml")

    def face_cropped(img):
        gray = cv2.cvtColor(img, cv2.COLOR_BGR2GRAY)
        faces = face_classifier.detectMultiScale(gray, 1.3, 5)

        if len(faces) == 0:
            return None

        (x, y, w, h) = faces[0]  # Assuming a single face is detected
        cropped_face = img[y:y+h, x:x+w]
        return cropped_face

    video = cv2.VideoCapture(0)  # Access webcam (0 or -1 for default webcam)
    id = 1
    img_id = 0

    while True:
        ret, frame = video.read()
        if not ret:
            print("Failed to capture frame from webcam. Exiting...")
            break

        face = face_cropped(frame)
        if face is not None:
            img_id += 1
            face = cv2.resize(face, (200, 200))
            face_gray = cv2.cvtColor(face, cv2.COLOR_BGR2GRAY)
            file_name_path = f"data/user.{id}.{img_id}.jpg"
            cv2.imwrite(file_name_path, face_gray)
            cv2.putText(face, str(img_id), (50, 50), cv2.FONT_HERSHEY_COMPLEX, 1, (0, 255, 0), 2)
            cv2_imshow(face)  # Display the cropped face in Colab

        if cv2.waitKey(1) & 0xFF == ord('q') or img_id == 200:
            break

    video.release()
    cv2.destroyAllWindows()
    print("Collecting samples is completed.")

generate_dataset()
